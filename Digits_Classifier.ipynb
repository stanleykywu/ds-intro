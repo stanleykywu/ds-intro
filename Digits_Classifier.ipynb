{
  "nbformat": 4,
  "nbformat_minor": 0,
  "metadata": {
    "colab": {
      "provenance": [],
      "authorship_tag": "ABX9TyPJckCfjuhVs4vLVVS4ZEOy",
      "include_colab_link": true
    },
    "kernelspec": {
      "name": "python3",
      "display_name": "Python 3"
    },
    "language_info": {
      "name": "python"
    }
  },
  "cells": [
    {
      "cell_type": "markdown",
      "metadata": {
        "id": "view-in-github",
        "colab_type": "text"
      },
      "source": [
        "<a href=\"https://colab.research.google.com/github/stanleykywu/ds-intro/blob/main/Digits_Classifier.ipynb\" target=\"_parent\"><img src=\"https://colab.research.google.com/assets/colab-badge.svg\" alt=\"Open In Colab\"/></a>"
      ]
    },
    {
      "cell_type": "markdown",
      "source": [
        "# Digits Classifier Example Notebook"
      ],
      "metadata": {
        "id": "dJlwHZ2HrGmu"
      }
    },
    {
      "cell_type": "markdown",
      "source": [
        "## Dependencies\n",
        "\n",
        "Run the installation code block ONLY if you are running this in a Google Colab. Nothing will if you run it locally but hopefully you wouldn't need to since all packages will already have been installed"
      ],
      "metadata": {
        "id": "QtxCBTc5q8PQ"
      }
    },
    {
      "cell_type": "code",
      "source": [
        "%pip install sklearn"
      ],
      "metadata": {
        "id": "M9a6dZwdpH21"
      },
      "execution_count": null,
      "outputs": []
    },
    {
      "cell_type": "markdown",
      "source": [
        "### Import necessary functions"
      ],
      "metadata": {
        "id": "kVB184n4u4-e"
      }
    },
    {
      "cell_type": "code",
      "execution_count": 2,
      "metadata": {
        "id": "z-fWNtcXpCKK"
      },
      "outputs": [],
      "source": [
        "import matplotlib.pyplot as plt\n",
        "from sklearn import datasets, svm, metrics\n",
        "from sklearn.model_selection import train_test_split"
      ]
    },
    {
      "cell_type": "markdown",
      "source": [
        "## Taking a look at our Image Dataset"
      ],
      "metadata": {
        "id": "3rZKVXk9rC07"
      }
    },
    {
      "cell_type": "code",
      "source": [
        "digits = datasets.load_digits()\n",
        "\n",
        "_, axes = plt.subplots(nrows=2, ncols=5, figsize=(20, 6))\n",
        "for r, row in enumerate(axes):\n",
        "    for c, col in enumerate(row):\n",
        "        image = digits.images[r * 5 + c]\n",
        "        label = digits.target[r * 5 + c]\n",
        "        axes[r][c].imshow(image, cmap=plt.cm.gray_r, interpolation=\"nearest\")\n",
        "        axes[r][c].set_title(\"Digit: %i\" % label)\n",
        "        axes[r][c].axis('off')"
      ],
      "metadata": {
        "id": "CQutxfiApLyY"
      },
      "execution_count": null,
      "outputs": []
    },
    {
      "cell_type": "markdown",
      "source": [
        "## Data Cleaning"
      ],
      "metadata": {
        "id": "IpMMNB7QrNRc"
      }
    },
    {
      "cell_type": "markdown",
      "source": [
        "We have 1797 images, and they are all 8x8 matrices representing our handwritten images."
      ],
      "metadata": {
        "id": "Bvl44zrprZoG"
      }
    },
    {
      "cell_type": "code",
      "source": [
        "print(digits.images.shape)"
      ],
      "metadata": {
        "id": "zr7f0stmrUpq"
      },
      "execution_count": null,
      "outputs": []
    },
    {
      "cell_type": "markdown",
      "source": [
        "2-D data is sometimes annoying and hard to deal with. So we flatten the images from 2-dimensional 8x8 matrices to 1-dimensional vectors with $8 \\cdot 8 = 64$ values"
      ],
      "metadata": {
        "id": "SXNPrXXBrs8V"
      }
    },
    {
      "cell_type": "code",
      "source": [
        "# flatten the images to turn \n",
        "n_samples = len(digits.images)\n",
        "data = digits.images.reshape((n_samples, -1))\n",
        "print(data.shape)"
      ],
      "metadata": {
        "id": "RTAV2Hi2rrRw"
      },
      "execution_count": null,
      "outputs": []
    },
    {
      "cell_type": "markdown",
      "source": [
        "We also have the corresponding labels for each image"
      ],
      "metadata": {
        "id": "v6pb8AV9sfyc"
      }
    },
    {
      "cell_type": "code",
      "source": [
        "labels = digits.target\n",
        "\n",
        "# Print first 10 labels to see\n",
        "print(labels[:10])"
      ],
      "metadata": {
        "id": "jrW7Ex77sbJU"
      },
      "execution_count": null,
      "outputs": []
    },
    {
      "cell_type": "markdown",
      "source": [
        "We split our data in train and test, X corresponding to the input flattened images, and the y corresponding to the labels. We train our model on the training and see how well it does on testing, i.e. data it has never seen before."
      ],
      "metadata": {
        "id": "Mg9c3QVRsL0z"
      }
    },
    {
      "cell_type": "code",
      "source": [
        "# Split data into 50% train and 50% test subsets\n",
        "X_train, X_test, y_train, y_test = train_test_split(\n",
        "    data, labels, test_size=0.5, shuffle=True\n",
        ")"
      ],
      "metadata": {
        "id": "xGrp8lVGsIYz"
      },
      "execution_count": 17,
      "outputs": []
    },
    {
      "cell_type": "markdown",
      "source": [
        "## Creating our Classifier\n",
        "\n",
        "We use the built in SVC classifier from Scikit-learn to train/fit."
      ],
      "metadata": {
        "id": "kff14W8ur_Mg"
      }
    },
    {
      "cell_type": "code",
      "source": [
        "# Create a classifier: a support vector classifier\n",
        "clf = svm.SVC(gamma=0.001)\n",
        "\n",
        "# Learn the digits on the train subset\n",
        "clf.fit(X_train, y_train)"
      ],
      "metadata": {
        "id": "-ftfdMzIpWo0"
      },
      "execution_count": null,
      "outputs": []
    },
    {
      "cell_type": "markdown",
      "source": [
        "We now use our trained classifier to generate label predictions for our witheld testing data"
      ],
      "metadata": {
        "id": "6rHVI98rtQIe"
      }
    },
    {
      "cell_type": "code",
      "source": [
        "# Predict the value of the digit on the test subset\n",
        "predicted = clf.predict(X_test)"
      ],
      "metadata": {
        "id": "RV2G8p1ytM1V"
      },
      "execution_count": 19,
      "outputs": []
    },
    {
      "cell_type": "markdown",
      "source": [
        "## Model Evaluation\n",
        "\n",
        "How well did we do?"
      ],
      "metadata": {
        "id": "nDV3SPa2teQj"
      }
    },
    {
      "cell_type": "code",
      "source": [
        "_, axes = plt.subplots(nrows=2, ncols=5, figsize=(20, 6))\n",
        "for r, row in enumerate(axes):\n",
        "    for c, col in enumerate(row):\n",
        "        image = X_test[r * 5 + c].reshape((8, 8))\n",
        "        label = y_test[r * 5 + c]\n",
        "        axes[r][c].imshow(image, cmap=plt.cm.gray_r, interpolation=\"nearest\")\n",
        "        axes[r][c].set_title(\"Digit: %i\" % label)\n",
        "        axes[r][c].axis('off')"
      ],
      "metadata": {
        "id": "R0FzAjcqtwXj"
      },
      "execution_count": null,
      "outputs": []
    },
    {
      "cell_type": "markdown",
      "source": [
        "Let's use Scikit-Learn's classification report to see how we did on our classification task in more depth"
      ],
      "metadata": {
        "id": "tJSiSiEftw_6"
      }
    },
    {
      "cell_type": "code",
      "source": [
        "print(\n",
        "    f\"Classification report for classifier {clf}:\\n\"\n",
        "    f\"{metrics.classification_report(y_test, predicted)}\\n\"\n",
        ")"
      ],
      "metadata": {
        "id": "HMkTTxW1tYHv"
      },
      "execution_count": null,
      "outputs": []
    },
    {
      "cell_type": "code",
      "source": [],
      "metadata": {
        "id": "QRPLE5xPuDIV"
      },
      "execution_count": null,
      "outputs": []
    }
  ]
}